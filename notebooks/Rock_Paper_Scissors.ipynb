{
 "cells": [
  {
   "cell_type": "code",
   "execution_count": 1,
   "id": "1ac92285",
   "metadata": {},
   "outputs": [],
   "source": [
    "import random"
   ]
  },
  {
   "cell_type": "code",
   "execution_count": 2,
   "id": "280e53ba",
   "metadata": {},
   "outputs": [
    {
     "name": "stdout",
     "output_type": "stream",
     "text": [
      "Type Rock, Paper, Scissors, or Q to quit: paper\n",
      "Computer picked rock.\n",
      "You won!\n",
      "Type Rock, Paper, Scissors, or Q to quit: scissors\n",
      "Computer picked scissors.\n",
      "You lost!\n",
      "Type Rock, Paper, Scissors, or Q to quit: rock\n",
      "Computer picked rock.\n",
      "You lost!\n",
      "Type Rock, Paper, Scissors, or Q to quit: paper\n",
      "Computer picked rock.\n",
      "You won!\n",
      "Type Rock, Paper, Scissors, or Q to quit: q\n",
      "You won 2 times.\n",
      "The computer won 2 times.\n",
      "Goodbye! Thanks for playing!\n"
     ]
    }
   ],
   "source": [
    "user_wins = 0\n",
    "computer_wins = 0\n",
    "\n",
    "#We can make a list for options instead of using multiple if statements to assign rock, paper, and scissors.\n",
    "options = [\"rock\",\"paper\",\"scissors\"]\n",
    "#We can now use options as a variable\n",
    "\n",
    "while True:\n",
    "    user_input = input(\"Type Rock, Paper, Scissors, or Q to quit: \").lower()\n",
    "    if user_input == \"q\":\n",
    "        break\n",
    "        \n",
    "    if user_input not in options:\n",
    "        continue\n",
    "        #We could add a message after continue using print here to tell the user to pick a valid option.\n",
    "        #Random number will not generate until the user has picked a valid option.\n",
    "        \n",
    "#We'll need to generate numbers for the computer that represent rock, paper, and scissors.      \n",
    "    random_number = random.randint(0,2) \n",
    "    # rock:0, paper:1, scissors:2\n",
    "    computer_pick = options[random_number]\n",
    "    print(\"Computer picked\", computer_pick + \".\")\n",
    "    \n",
    "#We'll need to compare the user's pick to the computer's pick to declare a winner.\n",
    "    if user_input == \"rock\" and computer_pick == \"scissors\":\n",
    "        print(\"You won!\")\n",
    "        user_wins += 1\n",
    "    \n",
    "    elif user_input == \"paper\" and computer_pick == \"rock\":\n",
    "        print(\"You won!\")\n",
    "        user_wins += 1\n",
    "    \n",
    "    elif user_input == \"scissors\" and computer_pick == \"paper\":\n",
    "        print(\"You won!\")\n",
    "        user_wins += 1\n",
    "    \n",
    "    else:\n",
    "        print(\"You lost!\")\n",
    "        computer_wins += 1\n",
    "\n",
    "print(\"You won\",user_wins, \"times.\" )\n",
    "print(\"The computer won\",computer_wins, \"times.\")   \n",
    "print(\"Goodbye! Thanks for playing!\")"
   ]
  },
  {
   "cell_type": "code",
   "execution_count": null,
   "id": "cb866de7",
   "metadata": {},
   "outputs": [],
   "source": []
  }
 ],
 "metadata": {
  "kernelspec": {
   "display_name": "Python 3 (ipykernel)",
   "language": "python",
   "name": "python3"
  },
  "language_info": {
   "codemirror_mode": {
    "name": "ipython",
    "version": 3
   },
   "file_extension": ".py",
   "mimetype": "text/x-python",
   "name": "python",
   "nbconvert_exporter": "python",
   "pygments_lexer": "ipython3",
   "version": "3.9.7"
  }
 },
 "nbformat": 4,
 "nbformat_minor": 5
}
