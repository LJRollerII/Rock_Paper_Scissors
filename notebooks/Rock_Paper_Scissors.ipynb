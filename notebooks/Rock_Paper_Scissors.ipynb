{
 "cells": [
  {
   "cell_type": "code",
   "execution_count": 1,
   "id": "752f461e",
   "metadata": {},
   "outputs": [],
   "source": [
    "import random"
   ]
  },
  {
   "cell_type": "code",
   "execution_count": null,
   "id": "ba79bc6f",
   "metadata": {},
   "outputs": [],
   "source": [
    "user_wins = 0\n",
    "computer_wins = 0\n",
    "\n",
    "while True:\n",
    "    user_input = input(\"Type Rock, Paper, Scissors, or Q to quit\").lower()\n",
    "    if user_input == \"q\"\n",
    "        break\n",
    "        \n",
    "    if user_input not in [\"rock\",\"paper\",\"scissors\"]:\n",
    "        continue\n",
    "        #We could add a message after continue using print here to tell the user to pick a valid option.\n",
    "        \n",
    "#We'll need to generate numbers for the computer that represent rock, paper, and scissors.      \n",
    "    random_number = random.randint(0,) \n",
    "    # rock:0, paper:1, scissors:2\n",
    "    \n",
    "    \n",
    "print(\"Goodbye! Thanks for playing!\")"
   ]
  }
 ],
 "metadata": {
  "kernelspec": {
   "display_name": "Python 3 (ipykernel)",
   "language": "python",
   "name": "python3"
  },
  "language_info": {
   "codemirror_mode": {
    "name": "ipython",
    "version": 3
   },
   "file_extension": ".py",
   "mimetype": "text/x-python",
   "name": "python",
   "nbconvert_exporter": "python",
   "pygments_lexer": "ipython3",
   "version": "3.9.7"
  }
 },
 "nbformat": 4,
 "nbformat_minor": 5
}
